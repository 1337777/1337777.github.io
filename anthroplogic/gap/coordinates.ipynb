{
 "cells": [
  {
   "cell_type": "code",
   "execution_count": 0,
   "metadata": {},
   "outputs": [],
   "source": [
    "# how to prove geometry by changing coordinates generators | INVISIBLE GEOMETRY\n",
    "# this computation uses \"Hilbert's Nullstellensatz\" and \"Gr¨obner basis\""
   ]
  },
  {
   "cell_type": "code",
   "execution_count": 0,
   "metadata": {},
   "outputs": [],
   "source": [
    "# problem : given the points A = (−1, 0) and B = (1, 0) and set C = (x, y) , \n",
    "# assume that C is on the circle with diameter AB (whose origin is (0, 0) and radius is 1)\n",
    "# then prove that the triangle ACB form some right angle at C which is that  AC ⊥ BC"
   ]
  },
  {
   "cell_type": "code",
   "execution_count": 2,
   "metadata": {},
   "outputs": [],
   "source": [
    "x:=X(Rationals,\"x\");;\n",
    "y:=X(Rationals,\"y\");;"
   ]
  },
  {
   "cell_type": "code",
   "execution_count": 2,
   "metadata": {},
   "outputs": [],
   "source": [
    "# C is on the circle (whose origin is (0, 0) and radius is 1)\n",
    "# is specified by the polynomia"
   ]
  },
  {
   "cell_type": "code",
   "execution_count": 4,
   "metadata": {},
   "outputs": [
    {
     "name": "stdout",
     "output_type": "stream",
     "text": [
      "x^2+y^2-1\n"
     ]
    }
   ],
   "source": [
    "assumption := x^2 + y^2 - 1;; Display(assumption);"
   ]
  },
  {
   "cell_type": "code",
   "execution_count": 4,
   "metadata": {},
   "outputs": [],
   "source": [
    "# right angle at C means that AC ⊥ BC"
   ]
  },
  {
   "cell_type": "code",
   "execution_count": 6,
   "metadata": {},
   "outputs": [
    {
     "name": "stdout",
     "output_type": "stream",
     "text": [
      "-x^2-y^2+1\n"
     ]
    }
   ],
   "source": [
    "conclusion := (x -(-1)) * (1 - x) + (y - 0) * (0 - y);; Display(conclusion);"
   ]
  },
  {
   "cell_type": "code",
   "execution_count": 7,
   "metadata": {},
   "outputs": [
    {
     "data": {
      "text/plain": [
       "[ x^2+y^2-1 ]"
      ]
     },
     "execution_count": 7,
     "metadata": {
      "text/plain": ""
     },
     "output_type": "execute_result"
    }
   ],
   "source": [
    "basis := ReducedGroebnerBasis([ assumption ], MonomialLexOrdering() );"
   ]
  },
  {
   "cell_type": "code",
   "execution_count": 7,
   "metadata": {},
   "outputs": [],
   "source": [
    "# question 1 : is (conclusion ^ m)  in basis for some number m ? "
   ]
  },
  {
   "cell_type": "code",
   "execution_count": 8,
   "metadata": {},
   "outputs": [],
   "source": [
    "t_new := X(Rationals,\"t_new\");;"
   ]
  },
  {
   "cell_type": "code",
   "execution_count": 9,
   "metadata": {},
   "outputs": [
    {
     "data": {
      "text/plain": [
       "[ 1 ]"
      ]
     },
     "execution_count": 9,
     "metadata": {
      "text/plain": ""
     },
     "output_type": "execute_result"
    }
   ],
   "source": [
    "change_basis := ReducedGroebnerBasis([ assumption , 1 - t_new * conclusion ],\n",
    "                MonomialLexOrdering() );"
   ]
  },
  {
   "cell_type": "code",
   "execution_count": 9,
   "metadata": {},
   "outputs": [],
   "source": [
    "# question 2 : is conclusion in basis ? "
   ]
  },
  {
   "cell_type": "code",
   "execution_count": 11,
   "metadata": {},
   "outputs": [
    {
     "name": "stdout",
     "output_type": "stream",
     "text": [
      "0\n"
     ]
    }
   ],
   "source": [
    "rem := PolynomialReducedRemainder( conclusion, basis,\n",
    "        MonomialLexOrdering());; Display(rem);"
   ]
  },
  {
   "cell_type": "code",
   "execution_count": null,
   "metadata": {},
   "outputs": [],
   "source": []
  }
 ],
 "metadata": {
  "kernelspec": {
   "display_name": "GAP 4",
   "language": "gap",
   "name": "gap-4"
  },
  "language_info": {
   "codemirror_mode": "gap",
   "file_extension": ".g",
   "mimetype": "text/x-gap",
   "name": "GAP 4",
   "nbconvert_exporter": "",
   "pygments_lexer": "gap",
   "version": "4.dev"
  }
 },
 "nbformat": 4,
 "nbformat_minor": 2
}
