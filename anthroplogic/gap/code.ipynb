{
 "cells": [
  {
   "cell_type": "code",
   "execution_count": 55,
   "metadata": {},
   "outputs": [],
   "source": [
    "# How to detect and correct errors in DVD disc or WI-FI data by GAP/COQ-computer.\n",
    "# \n",
    "# This uses computations in some finite group of units ( \"finite field\" ). Refer also to \"Reed Solomon Codes\" ."
   ]
  },
  {
   "cell_type": "code",
   "execution_count": 56,
   "metadata": {},
   "outputs": [
    {
     "data": {
      "text/plain": [
       "<object>"
      ]
     },
     "execution_count": 56,
     "metadata": {
      "text/plain": ""
     },
     "output_type": "execute_result"
    }
   ],
   "source": [
    "x:=X(GF(8),\"x\");"
   ]
  },
  {
   "cell_type": "code",
   "execution_count": 57,
   "metadata": {},
   "outputs": [
    {
     "data": {
      "text/plain": [
       "Z(2^3)"
      ]
     },
     "execution_count": 57,
     "metadata": {
      "text/plain": ""
     },
     "output_type": "execute_result"
    }
   ],
   "source": [
    "a:=Z(8);"
   ]
  },
  {
   "cell_type": "code",
   "execution_count": 59,
   "metadata": {},
   "outputs": [
    {
     "name": "stdout",
     "output_type": "stream",
     "text": [
      "x^2+Z(2^3)^4*x+Z(2^3)^3\n"
     ]
    }
   ],
   "source": [
    "encoder_generator:=(x-a)*(x-a^2);; Display(encoder_generator);"
   ]
  },
  {
   "cell_type": "code",
   "execution_count": 60,
   "metadata": {},
   "outputs": [
    {
     "data": {
      "text/plain": [
       "[ Z(2^3)^3, Z(2^3)^4, Z(2)^0 ]"
      ]
     },
     "execution_count": 60,
     "metadata": {
      "text/plain": ""
     },
     "output_type": "execute_result"
    }
   ],
   "source": [
    "coef:=CoefficientsOfUnivariatePolynomial(encoder_generator);"
   ]
  },
  {
   "cell_type": "code",
   "execution_count": 62,
   "metadata": {},
   "outputs": [
    {
     "name": "stdout",
     "output_type": "stream",
     "text": [
      " . . . . . . .\n",
      " . . . . . . .\n",
      " . . . . . . .\n",
      " . . . . . . .\n",
      " . . . . . . .\n"
     ]
    }
   ],
   "source": [
    "encoder :=NullMat(5,7,GF(8));; Display(encoder);"
   ]
  },
  {
   "cell_type": "code",
   "execution_count": 64,
   "metadata": {},
   "outputs": [
    {
     "name": "stdout",
     "output_type": "stream",
     "text": [
      "z = Z(8)\n",
      " z^3 z^4   1   .   .   .   .\n",
      "   . z^3 z^4   1   .   .   .\n",
      "   .   . z^3 z^4   1   .   .\n",
      "   .   .   . z^3 z^4   1   .\n",
      "   .   .   .   . z^3 z^4   1\n"
     ]
    }
   ],
   "source": [
    "for i in [1..5] do encoder[i]{[i..i+2]}:=coef;od; Display(encoder);"
   ]
  },
  {
   "cell_type": "code",
   "execution_count": 66,
   "metadata": {},
   "outputs": [
    {
     "name": "stdout",
     "output_type": "stream",
     "text": [
      "z = Z(8)\n",
      "   1   .   .   .   . z^3 z^4\n",
      "   .   1   .   .   .   1   1\n",
      "   .   .   1   .   . z^3 z^5\n",
      "   .   .   .   1   . z^1 z^5\n",
      "   .   .   .   .   1 z^1 z^4\n"
     ]
    }
   ],
   "source": [
    "TriangulizeMat(encoder); Display(encoder);"
   ]
  },
  {
   "cell_type": "code",
   "execution_count": 68,
   "metadata": {},
   "outputs": [
    {
     "name": "stdout",
     "output_type": "stream",
     "text": [
      "z = Z(8)\n",
      " z^3   1 z^3 z^1 z^1   1   .\n",
      " z^4   1 z^5 z^5 z^4   .   1\n"
     ]
    }
   ],
   "source": [
    "syndromes_generators:=NullspaceMat(TransposedMat(encoder));;Display(syndromes_generators);"
   ]
  },
  {
   "cell_type": "code",
   "execution_count": 70,
   "metadata": {},
   "outputs": [],
   "source": [
    "func1:=function (m) if m = 0 then return 0*a; else return a^(m-1); fi; end ;;\n",
    "\n",
    "func2:=function (t) if t = 0*a then return 0; else return First([1..7],j->a^(j-1) = t); fi; end;;"
   ]
  },
  {
   "cell_type": "code",
   "execution_count": null,
   "metadata": {},
   "outputs": [],
   "source": []
  },
  {
   "cell_type": "code",
   "execution_count": 71,
   "metadata": {},
   "outputs": [
    {
     "data": {
      "text/plain": [
       "[ 4, 3, 2, 0, 6 ]"
      ]
     },
     "execution_count": 71,
     "metadata": {
      "text/plain": ""
     },
     "output_type": "execute_result"
    }
   ],
   "source": [
    "message := [4 , 3, 2 , 0, 6]; #choose 5 numbers from the alphabet 0 to 7"
   ]
  },
  {
   "cell_type": "code",
   "execution_count": 73,
   "metadata": {},
   "outputs": [
    {
     "data": {
      "text/plain": [
       "[ Z(2^3)^3, Z(2^3)^2, Z(2^3), 0*Z(2), Z(2^3)^5 ]"
      ]
     },
     "execution_count": 72,
     "metadata": {
      "text/plain": ""
     },
     "output_type": "execute_result"
    },
    {
     "data": {
      "text/plain": [
       "[ Z(2^3)^3, Z(2^3)^2, Z(2^3), 0*Z(2), Z(2^3)^5, Z(2^3), Z(2^3)^2 ]"
      ]
     },
     "execution_count": 73,
     "metadata": {
      "text/plain": ""
     },
     "output_type": "execute_result"
    }
   ],
   "source": [
    "message := List(message, func1);\n",
    "encoded := message * encoder;"
   ]
  },
  {
   "cell_type": "code",
   "execution_count": 74,
   "metadata": {},
   "outputs": [
    {
     "name": "stdout",
     "output_type": "stream",
     "text": [
      "[ 4, 3, 2, 0, 6, 2, 3 ]\n"
     ]
    }
   ],
   "source": [
    "Display(List(encoded, func2));"
   ]
  },
  {
   "cell_type": "code",
   "execution_count": 76,
   "metadata": {},
   "outputs": [
    {
     "data": {
      "text/plain": [
       "7"
      ]
     },
     "execution_count": 75,
     "metadata": {
      "text/plain": ""
     },
     "output_type": "execute_result"
    },
    {
     "data": {
      "text/plain": [
       "0"
      ]
     },
     "execution_count": 76,
     "metadata": {
      "text/plain": ""
     },
     "output_type": "execute_result"
    }
   ],
   "source": [
    "hidden_position := 7;  #choose position to change from 1 to 7\n",
    "hidden_change := 0;  #choose change from 0 to 7"
   ]
  },
  {
   "cell_type": "code",
   "execution_count": null,
   "metadata": {},
   "outputs": [],
   "source": []
  },
  {
   "cell_type": "code",
   "execution_count": 79,
   "metadata": {},
   "outputs": [
    {
     "name": "stdout",
     "output_type": "stream",
     "text": [
      "[ 4, 3, 2, 0, 6, 2, 0 ]\n"
     ]
    }
   ],
   "source": [
    "transmitted :=ShallowCopy(encoded);; transmitted[hidden_position]:=func1(hidden_change);;\n",
    "Display (List(transmitted, func2));"
   ]
  },
  {
   "cell_type": "code",
   "execution_count": 80,
   "metadata": {},
   "outputs": [
    {
     "data": {
      "text/plain": [
       "[ 0*Z(2), Z(2^3)^2 ]"
      ]
     },
     "execution_count": 80,
     "metadata": {
      "text/plain": ""
     },
     "output_type": "execute_result"
    }
   ],
   "source": [
    "syndromes := syndromes_generators * transmitted;"
   ]
  },
  {
   "cell_type": "code",
   "execution_count": 81,
   "metadata": {},
   "outputs": [
    {
     "data": {
      "text/plain": [
       "7"
      ]
     },
     "execution_count": 81,
     "metadata": {
      "text/plain": ""
     },
     "output_type": "execute_result"
    }
   ],
   "source": [
    "error_position := Filtered([1..7], j -> syndromes_generators[1][j] * syndromes[2] = \n",
    " syndromes_generators[2][j] * syndromes[1] )[1];"
   ]
  },
  {
   "cell_type": "code",
   "execution_count": 83,
   "metadata": {},
   "outputs": [
    {
     "name": "stdout",
     "output_type": "stream",
     "text": [
      "Z(2^3)^2\n"
     ]
    }
   ],
   "source": [
    "if not syndromes_generators[1][error_position] = 0*Z(2^3)\n",
    "then error := (syndromes_generators[1][error_position]^-1) * syndromes[1] ; \n",
    "else error := (syndromes_generators[2][error_position]^-1) * syndromes[2] ; \n",
    "fi ; Display(error);"
   ]
  },
  {
   "cell_type": "code",
   "execution_count": 86,
   "metadata": {},
   "outputs": [
    {
     "name": "stdout",
     "output_type": "stream",
     "text": [
      "[ Z(2^3)^3, Z(2^3)^2, Z(2^3), 0*Z(2), Z(2^3)^5, Z(2^3), Z(2^3)^2 ]\n"
     ]
    }
   ],
   "source": [
    "decoded := ShallowCopy(transmitted);; decoded[error_position] := transmitted[error_position] - error;; Display(decoded);"
   ]
  },
  {
   "cell_type": "code",
   "execution_count": 87,
   "metadata": {},
   "outputs": [
    {
     "name": "stdout",
     "output_type": "stream",
     "text": [
      "[ 4, 3, 2, 0, 6, 2, 3 ]\n"
     ]
    }
   ],
   "source": [
    "Display (List(decoded, func2 ));"
   ]
  },
  {
   "cell_type": "code",
   "execution_count": 88,
   "metadata": {},
   "outputs": [
    {
     "name": "stdout",
     "output_type": "stream",
     "text": [
      "true\n"
     ]
    }
   ],
   "source": [
    "Display(decoded = encoded);"
   ]
  }
 ],
 "metadata": {
  "kernelspec": {
   "display_name": "GAP 4",
   "language": "gap",
   "name": "gap-4"
  },
  "language_info": {
   "codemirror_mode": "gap",
   "file_extension": ".g",
   "mimetype": "text/x-gap",
   "name": "GAP 4",
   "nbconvert_exporter": "",
   "pygments_lexer": "gap",
   "version": "4.dev"
  }
 },
 "nbformat": 4,
 "nbformat_minor": 2
}
