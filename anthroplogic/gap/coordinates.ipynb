{
 "cells": [
  {
   "cell_type": "code",
   "execution_count": 0,
   "metadata": {},
   "outputs": [],
   "source": [
    "# how to prove geometry by changing coordinates generators | INVISIBLE GEOMETRY\n",
    "# this computation uses \"Hilbert's Nullstellensatz\" and \"Grobner basis\""
   ]
  },
  {
   "cell_type": "code",
   "execution_count": 0,
   "metadata": {},
   "outputs": [],
   "source": [
    "# THALES lemma : given the points A = (0, 0) and B = (b, 0) and set C = (x, y) , \n",
    "# assume that C is on the circle with diameter AB \n",
    "# (whose origin is (b/2, 0) and radius is (b/2))\n",
    "# then prove that the triangle ACB makes\n",
    "# some right angle at C which is that  AC ⊥ BC (scalar product is 0)"
   ]
  },
  {
   "cell_type": "code",
   "execution_count": 2,
   "metadata": {},
   "outputs": [
    {
     "data": {
      "text/plain": [
       "Rationals[b]"
      ]
     },
     "execution_count": 1,
     "metadata": {
      "text/plain": ""
     },
     "output_type": "execute_result"
    }
   ],
   "source": [
    "Rationals_b := PolynomialRing(Rationals,[\"b\"]);\n",
    "b := IndeterminatesOfPolynomialRing(Rationals_b)[1];;"
   ]
  },
  {
   "cell_type": "code",
   "execution_count": 4,
   "metadata": {},
   "outputs": [
    {
     "name": "stdout",
     "output_type": "stream",
     "text": [
      "#I  You are creating a polynomial *over* a polynomial ring (i.e. in an\n",
      "#I  iterated polynomial ring). Are you sure you want to do this?\n",
      "#I  If not, the first argument should be the base ring, not a polynomial ring\n",
      "#I  Set ITER_POLY_WARN:=false; to remove this warning.\n",
      "#I  You are creating a polynomial *over* a polynomial ring (i.e. in an\n",
      "#I  iterated polynomial ring). Are you sure you want to do this?\n",
      "#I  If not, the first argument should be the base ring, not a polynomial ring\n",
      "#I  Set ITER_POLY_WARN:=false; to remove this warning.\n"
     ]
    }
   ],
   "source": [
    "x:=X(Rationals_b,\"x\");;\n",
    "y:=X(Rationals_b,\"y\");;"
   ]
  },
  {
   "cell_type": "code",
   "execution_count": 4,
   "metadata": {},
   "outputs": [],
   "source": [
    "# C is on the circle (whose origin is (b/2, 0) and radius is (b/2))\n",
    "# is described by the polynomial"
   ]
  },
  {
   "cell_type": "code",
   "execution_count": 6,
   "metadata": {},
   "outputs": [
    {
     "name": "stdout",
     "output_type": "stream",
     "text": [
      "x^2+y^2-b*x\n"
     ]
    }
   ],
   "source": [
    "assumption := (x - b/2)^2 + (y - 0)^2 - (b/2)^2;; Display(assumption);"
   ]
  },
  {
   "cell_type": "code",
   "execution_count": 6,
   "metadata": {},
   "outputs": [],
   "source": [
    "# right angle at C which is that  AC ⊥ BC (scalar product is 0)"
   ]
  },
  {
   "cell_type": "code",
   "execution_count": 8,
   "metadata": {},
   "outputs": [
    {
     "name": "stdout",
     "output_type": "stream",
     "text": [
      "-x^2-y^2+b*x\n"
     ]
    }
   ],
   "source": [
    "conclusion := (x - 0) * (b - x) + (y - 0) * (0 - y);; Display(conclusion);"
   ]
  },
  {
   "cell_type": "code",
   "execution_count": 9,
   "metadata": {},
   "outputs": [
    {
     "data": {
      "text/plain": [
       "[ x^2+y^2-b*x ]"
      ]
     },
     "execution_count": 9,
     "metadata": {
      "text/plain": ""
     },
     "output_type": "execute_result"
    }
   ],
   "source": [
    "basis := ReducedGroebnerBasis([ assumption ], MonomialLexOrdering() );"
   ]
  },
  {
   "cell_type": "code",
   "execution_count": 9,
   "metadata": {},
   "outputs": [],
   "source": [
    "# question 1 : is (conclusion ^ m)  in basis for some number m ? yes"
   ]
  },
  {
   "cell_type": "code",
   "execution_count": 10,
   "metadata": {},
   "outputs": [],
   "source": [
    "t_new := X(Rationals,\"t_new\");;"
   ]
  },
  {
   "cell_type": "code",
   "execution_count": 11,
   "metadata": {},
   "outputs": [
    {
     "data": {
      "text/plain": [
       "[ 1 ]"
      ]
     },
     "execution_count": 11,
     "metadata": {
      "text/plain": ""
     },
     "output_type": "execute_result"
    }
   ],
   "source": [
    "change_basis := ReducedGroebnerBasis([ assumption , 1 - t_new * conclusion ],\n",
    "                MonomialLexOrdering() );"
   ]
  },
  {
   "cell_type": "code",
   "execution_count": 11,
   "metadata": {},
   "outputs": [],
   "source": [
    "# question 2 : actually, is conclusion in basis ? yes"
   ]
  },
  {
   "cell_type": "code",
   "execution_count": 13,
   "metadata": {},
   "outputs": [
    {
     "name": "stdout",
     "output_type": "stream",
     "text": [
      "0\n"
     ]
    }
   ],
   "source": [
    "rem := PolynomialReducedRemainder( conclusion, basis,\n",
    "        MonomialLexOrdering());; Display(rem);"
   ]
  },
  {
   "cell_type": "code",
   "execution_count": null,
   "metadata": {},
   "outputs": [],
   "source": []
  }
 ],
 "metadata": {
  "kernelspec": {
   "display_name": "GAP 4",
   "language": "gap",
   "name": "gap-4"
  },
  "language_info": {
   "codemirror_mode": "gap",
   "file_extension": ".g",
   "mimetype": "text/x-gap",
   "name": "GAP 4",
   "nbconvert_exporter": "",
   "pygments_lexer": "gap",
   "version": "4.dev"
  }
 },
 "nbformat": 4,
 "nbformat_minor": 2
}
